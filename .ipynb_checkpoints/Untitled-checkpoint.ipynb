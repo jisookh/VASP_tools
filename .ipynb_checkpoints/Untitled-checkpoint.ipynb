{
 "cells": [
  {
   "cell_type": "code",
   "execution_count": 10,
   "metadata": {},
   "outputs": [],
   "source": [
    "from math import *\n",
    "import os\n",
    "import numpy as np"
   ]
  },
  {
   "cell_type": "code",
   "execution_count": 2,
   "metadata": {},
   "outputs": [],
   "source": [
    "def read_poscar():\n",
    "    # cell\n",
    "    # [[cell[0][1], cell[0][1], cell[0][2]],\n",
    "    #  [cell[1][0], cell[1][1], cell[1][2]],\n",
    "    #  [cell[2][0], cell[2][1], cell[2][2]]]\n",
    "    # atomic_coor\n",
    "    # [[[1, 'atom1', x_coor, y_coor, z_coor], ..., [n, 'atom1', x_coor, y_coor, z_coor]]\n",
    "    #  [[n+1, 'atom2', x_coor, y_coor, z_coor], ...]\n",
    "    #  [...]]\n",
    "\n",
    "    f = open('POSCAR', 'r')\n",
    "    f.seek(0)\n",
    "\n",
    "    f.readline()    # line 1 : Comment\n",
    "\n",
    "    line = f.readline(); unit_len = float(line)   # line 2 : Unit Length\n",
    "    cell = []\n",
    "    for i in range(3):  # line 3-5 | Unit cell vectors\n",
    "        line = f.readline(); tmp = line.split()\n",
    "        cell.append([unit_len*float(tmp[0]), unit_len*float(tmp[1]), unit_len*float(tmp[2])])\n",
    "\n",
    "    line = f.readline(); atoms = line.split()   # line 6 : Species\n",
    "    line = f.readline(); tmp = line.split() # line 7 : Number of atoms\n",
    "    n_atoms = []\n",
    "    for i in range(len(tmp)):\n",
    "        n_atoms.append(int(tmp[i]))\n",
    "    #print(atoms, n_atoms)\n",
    "\n",
    "    f.readline()    # line 8 : Direct|Cartesian\n",
    "\n",
    "    atomic_coor = []\n",
    "    n = 1\n",
    "    for i, species in enumerate(atoms):\n",
    "        atomic_coor_i = []\n",
    "        for j in range(n_atoms[i]):\n",
    "            line = f.readline(); tmp = line.split() # line 9- : Atomic positions\n",
    "            atomic_coor_i.append([n, species, float(tmp[0]), float(tmp[1]), float(tmp[2])])\n",
    "            n = n + 1\n",
    "        atomic_coor.append(atomic_coor_i)\n",
    "\n",
    "    f.close()\n",
    "\n",
    "    return cell, atomic_coor"
   ]
  },
  {
   "cell_type": "code",
   "execution_count": 3,
   "metadata": {},
   "outputs": [],
   "source": [
    "cell, atomic_coor = read_poscar()"
   ]
  },
  {
   "cell_type": "code",
   "execution_count": 5,
   "metadata": {},
   "outputs": [
    {
     "data": {
      "text/plain": [
       "[[[1, 'Cs', 0.528999984, 0.25, 0.99000001],\n",
       "  [2, 'Cs', 0.471000016, 0.75, 0.01],\n",
       "  [3, 'Cs', 0.971000016, 0.75, 0.49000001],\n",
       "  [4, 'Cs', 0.028999984, 0.25, 0.50999999]],\n",
       " [[5, 'Pb', 0.0, 0.0, 0.0],\n",
       "  [6, 'Pb', 0.5, 0.0, 0.5],\n",
       "  [7, 'Pb', 0.0, 0.5, 0.0],\n",
       "  [8, 'Pb', 0.5, 0.5, 0.5]],\n",
       " [[9, 'Br', 0.995000005, 0.25, 0.046],\n",
       "  [10, 'Br', 0.005, 0.75, 0.953999996],\n",
       "  [11, 'Br', 0.504999995, 0.75, 0.546000004],\n",
       "  [12, 'Br', 0.495000005, 0.25, 0.453999996],\n",
       "  [13, 'Br', 0.704999983, 0.524999976, 0.207000002],\n",
       "  [14, 'Br', 0.295000017, 0.475000024, 0.792999983],\n",
       "  [15, 'Br', 0.795000017, 0.475000024, 0.707000017],\n",
       "  [16, 'Br', 0.204999983, 0.524999976, 0.292999983],\n",
       "  [17, 'Br', 0.295000017, 0.024999976, 0.792999983],\n",
       "  [18, 'Br', 0.704999983, 0.975000024, 0.207000002],\n",
       "  [19, 'Br', 0.204999983, 0.975000024, 0.292999983],\n",
       "  [20, 'Br', 0.795000017, 0.024999976, 0.707000017]]]"
      ]
     },
     "execution_count": 5,
     "metadata": {},
     "output_type": "execute_result"
    }
   ],
   "source": [
    "atomic_coor"
   ]
  },
  {
   "cell_type": "code",
   "execution_count": 6,
   "metadata": {},
   "outputs": [],
   "source": [
    "def write_tot_dos():\n",
    "\n",
    "    f = open('DOSCAR', 'r')\n",
    "    f.seek(0)\n",
    "\n",
    "    for i in range(5):                   # line 1-5\n",
    "        f.readline()\n",
    "\n",
    "    line = f.readline(); tmp = line.split() # line 6: E(max), E(min), NEDOS,  E(fermi), 1.0000\n",
    "    n_edos = int(tmp[2])\n",
    "    e_fermi = float(tmp[3])\n",
    "\n",
    "    tot_dos = []\n",
    "    for i in range(n_edos):\n",
    "        line = f.readline(); tmp = line.split() # line 7-: energy     DOS     integrated DOS\n",
    "        tot_dos.append([float(tmp[0]), float(tmp[1]), float(tmp[2])])\n",
    "\n",
    "    f.close()\n",
    "\n",
    "    o = open('total.dos', 'w')\n",
    "\n",
    "    o.write('#   Ef = %f\\n' % e_fermi)\n",
    "    o.write('#   E   DOS   integrated DOS\\n')\n",
    "    for i in range(n_edos):\n",
    "        o.write('%12.3f%12.4E%12.4E\\n' % (tot_dos[i][0], tot_dos[i][1], tot_dos[i][2]))\n",
    "\n",
    "    o.close()\n",
    "\n",
    "    return n_edos, e_fermi"
   ]
  },
  {
   "cell_type": "code",
   "execution_count": 7,
   "metadata": {},
   "outputs": [],
   "source": [
    "n_edos, e_fermi = write_tot_dos()"
   ]
  },
  {
   "cell_type": "code",
   "execution_count": 9,
   "metadata": {},
   "outputs": [
    {
     "data": {
      "text/plain": [
       "0.82210289"
      ]
     },
     "execution_count": 9,
     "metadata": {},
     "output_type": "execute_result"
    }
   ],
   "source": [
    "e_fermi"
   ]
  },
  {
   "cell_type": "code",
   "execution_count": 26,
   "metadata": {},
   "outputs": [],
   "source": [
    "def write_part_dos(atomic_coor):\n",
    "    f = open('DOSCAR', 'r')\n",
    "    f.seek(0)\n",
    "\n",
    "    line = f.readline(); tmp = line.split() # line 1:\n",
    "    n_atoms = int(tmp[1])                   # # of Ions (including empty spheres), # of Ions, 0 (no partial DOS) or 1 (incl. partial DOS), NCDIJ (currently not used)\n",
    "\n",
    "    for i in range(2, 6):                   # line 2-5\n",
    "        f.readline()\n",
    "    \n",
    "    line = f.readline(); tmp = line.split() # line 6: E(max), E(min), NEDOS,  E(fermi), 1.0000\n",
    "    n_edos = int(tmp[2])\n",
    "    e_fermi = float(tmp[3])\n",
    "\n",
    "    for i in range(n_edos):\n",
    "        f.readline() # lines for total dos\n",
    "\n",
    "    for i in range(len(atomic_coor)):\n",
    "        dos = []\n",
    "        f. readline()\n",
    "        for k in range(n_edos):\n",
    "            line = f.readline(); tmp = line.split()\n",
    "            dos.append([float(tmp[n]) for n in range(len(tmp))])\n",
    "        for j in range(len(atomic_coor[i]) - 1):\n",
    "            f. readline()\n",
    "            for k in range(n_edos):\n",
    "                line = f.readline(); tmp = line.split()\n",
    "                for l in range(1, len(tmp)):\n",
    "                    dos[k][l] = dos[k][l] + float(tmp[l])\n",
    "                    \n",
    "        out = atomic_coor[i][0][1] + '.sum.dos'\n",
    "        o = open(out, 'w')\n",
    "\n",
    "        for i in range(n_edos):\n",
    "            o.write('%12.3f' % dos[i][0])\n",
    "            for j in range(len(dos[0]) - 1):\n",
    "                o.write('%12.4E' % dos[i][j+1])\n",
    "            o.write('\\n')\n",
    "        \n",
    "    return\n",
    "\n",
    "write_part_dos(atomic_coor)\n"
   ]
  },
  {
   "cell_type": "code",
   "execution_count": 27,
   "metadata": {},
   "outputs": [],
   "source": [
    "def write_gnu(e_fermi):\n",
    "\n",
    "    o = open('dos.gnu', 'w')\n",
    "\n",
    "    o.write('set size ratio 0.5\\n')\n",
    "    o.write('#set key right center # font \",20\" # {left|right|center} {top|bottom|center}\\n')\n",
    "    o.write('set zeroaxis\\n')\n",
    "    o.write('set tics out\\n')\n",
    "    o.write('set xtics 1\\n')\n",
    "    o.write('set mxtics 5\\n')\n",
    "    o.write('unset ytics\\n')\n",
    "    o.write('#set xra [-3:5]\\n')\n",
    "    o.write('set xlabel \"Energy(eV)\"\\n')\n",
    "    o.write('set ylabel \"DOS(arb.)\"\\n')\n",
    "    o.write('fermi = %f\\n' % e_fermi)\n",
    "    o.write('scale = %d\\n' % 100)\n",
    "    o.write('plot \"total.dos\" u ($2/scale):($1-fermi) w filledcurves lc rgb \"gray\" title \"tot\"\\n')\n",
    "    o.write('pause -1')\n",
    "\n",
    "    o.write('## ISPIN = 1; LORBIT = 10; LNONCOLLINEAR = F\\n')\n",
    "    o.write('# energy s-DOS p-DOS d-DOS\\n\\n')\n",
    "    \n",
    "    o.write('## ISPIN = 1; LORBIT = 11; LNONCOLLINEAR = F\\n')\n",
    "    o.write('# energy  s  p_y p_z p_x d_{xy} d_{yz} d_{z2-r2} d_{xz} d_{x2-y2},...\\n\\n')\n",
    "    \n",
    "    o.write('## ISPIN = 2; LORBIT = 10; LNONCOLLINEAR = F\\n')\n",
    "    o.write('# energy s-DOS(up) s-DOS(down) p-DOS(up) p-DOS(dwn) d-DOS(up) d-DOS(dwn)\\n\\n')\n",
    "    \n",
    "    o.write('## ISPIN = 1; LORBIT = 10; LNONCOLLINEAR = T\\n')\n",
    "    o.write('# energy s-DOS(total) s-DOS(mx) s-DOS(my) s-DOS(mz) p-DOS(total) p-DOS(mx),...\\n\\n')\n",
    "    \n",
    "    o.close()\n",
    "\n",
    "    return\n",
    "\n",
    "write_gnu(e_fermi)\n"
   ]
  },
  {
   "cell_type": "code",
   "execution_count": null,
   "metadata": {},
   "outputs": [],
   "source": []
  }
 ],
 "metadata": {
  "kernelspec": {
   "display_name": "Python 3",
   "language": "python",
   "name": "python3"
  },
  "language_info": {
   "codemirror_mode": {
    "name": "ipython",
    "version": 3
   },
   "file_extension": ".py",
   "mimetype": "text/x-python",
   "name": "python",
   "nbconvert_exporter": "python",
   "pygments_lexer": "ipython3",
   "version": "3.7.5"
  }
 },
 "nbformat": 4,
 "nbformat_minor": 2
}
